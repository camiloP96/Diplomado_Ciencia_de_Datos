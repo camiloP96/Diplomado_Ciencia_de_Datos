{
 "cells": [
  {
   "cell_type": "markdown",
   "id": "e7c99ed7-7de0-4bdd-8cbd-766c85ab795e",
   "metadata": {},
   "source": [
    "### Operadores"
   ]
  },
  {
   "cell_type": "code",
   "execution_count": 3,
   "id": "c4022326-c8f1-495c-bf15-223cca7b59f3",
   "metadata": {
    "tags": []
   },
   "outputs": [
    {
     "name": "stdout",
     "output_type": "stream",
     "text": [
      "Python es asombroso\n"
     ]
    }
   ],
   "source": [
    "# sumar textos\n",
    "x=\"Python es\"\n",
    "y=\" asombroso\"\n",
    "z=x+y\n",
    "print(z)"
   ]
  },
  {
   "cell_type": "code",
   "execution_count": 4,
   "id": "314e1a7b-9892-4eff-a450-c605d4d7c955",
   "metadata": {
    "tags": []
   },
   "outputs": [
    {
     "name": "stdout",
     "output_type": "stream",
     "text": [
      "6\n"
     ]
    }
   ],
   "source": [
    "# sumar numeros\n",
    "n1=1\n",
    "n2=5\n",
    "suma = n1+n2\n",
    "print(suma)"
   ]
  },
  {
   "cell_type": "code",
   "execution_count": 5,
   "id": "1ad8d87e-a1fc-46a8-81a9-d56e6476fad0",
   "metadata": {
    "tags": []
   },
   "outputs": [
    {
     "name": "stdout",
     "output_type": "stream",
     "text": [
      "la suma de 1 y 5 es igual 6\n",
      "la suma de 1 y 5 es igual 6\n"
     ]
    }
   ],
   "source": [
    "# Escribir texto y números\n",
    "print(\"la suma de\", n1, \"y\", n2, \"es igual\", suma)\n",
    "print(\"la suma de \" + str(n1) + \" y \" + \n",
    "      str(n2) + \" es igual \" + str(suma))"
   ]
  },
  {
   "cell_type": "markdown",
   "id": "54f71d4b-ca8b-49e2-8088-9831d23c194a",
   "metadata": {},
   "source": [
    "Hay que tener cuidado con el orden de las operaciones al momento de digitarlas dentro de python. "
   ]
  },
  {
   "cell_type": "markdown",
   "id": "efc2a26f-f16f-4693-84f4-135fc9f3e69e",
   "metadata": {},
   "source": [
    "Los operadores lógicos para comparar valores, devuelve bool (==,=!, <,> etc), también estan and, or y not"
   ]
  },
  {
   "cell_type": "code",
   "execution_count": 16,
   "id": "6a85d3a7-9b2d-4f3e-9071-dc67fd37cfc6",
   "metadata": {
    "tags": []
   },
   "outputs": [
    {
     "name": "stdin",
     "output_type": "stream",
     "text": [
      "digite su edad 28\n"
     ]
    },
    {
     "name": "stdout",
     "output_type": "stream",
     "text": [
      "adolescente: False\n"
     ]
    }
   ],
   "source": [
    "edad=int(input(\"digite su edad\"))\n",
    "estado=(edad>12)and(edad<20)\n",
    "if estado == True:\n",
    "    print(\"adolescente:\",estado)\n",
    "else:\n",
    "    print(\"adolescente:\",estado)\n"
   ]
  },
  {
   "cell_type": "code",
   "execution_count": 18,
   "id": "474b4932-3ff5-48b8-958d-57af7d29a9f2",
   "metadata": {
    "tags": []
   },
   "outputs": [
    {
     "name": "stdout",
     "output_type": "stream",
     "text": [
      "(3+2j)\n"
     ]
    }
   ],
   "source": [
    "# Números complejos\n",
    "res = 3+(-4)**(1/2)\n",
    "print(res)"
   ]
  },
  {
   "cell_type": "code",
   "execution_count": 20,
   "id": "b37818db-ab5e-4fdb-8564-bb3b0798deb0",
   "metadata": {
    "tags": []
   },
   "outputs": [
    {
     "name": "stdout",
     "output_type": "stream",
     "text": [
      "15.666666666666666\n",
      "16\n"
     ]
    }
   ],
   "source": [
    "#redondear \n",
    "\n",
    "#cálculo 1\n",
    "n1=47/3\n",
    "print(n1)\n",
    "\n",
    "#calculo 2 \n",
    "n2= round(n1)\n",
    "print(n2)\n"
   ]
  },
  {
   "cell_type": "code",
   "execution_count": 21,
   "id": "292773c3-701e-4df6-ac26-79099ba63449",
   "metadata": {
    "tags": []
   },
   "outputs": [
    {
     "name": "stdout",
     "output_type": "stream",
     "text": [
      "15.667\n"
     ]
    }
   ],
   "source": [
    "# se pueden añadir más parametros, la cifra de decimales\n",
    "n3=round(n1,3)\n",
    "print(n3)"
   ]
  },
  {
   "cell_type": "code",
   "execution_count": 22,
   "id": "70390f71-6b45-4c05-a2ab-558fa3203eb9",
   "metadata": {
    "tags": []
   },
   "outputs": [],
   "source": [
    "from math import pi"
   ]
  },
  {
   "cell_type": "code",
   "execution_count": 24,
   "id": "0c416750-6aa6-4e4e-94ec-f5b49d888f5f",
   "metadata": {
    "tags": []
   },
   "outputs": [
    {
     "name": "stdout",
     "output_type": "stream",
     "text": [
      "3.141593\n"
     ]
    }
   ],
   "source": [
    "print(round(pi,6))"
   ]
  },
  {
   "cell_type": "code",
   "execution_count": 25,
   "id": "62b09588-e77f-4fd1-b601-750041991145",
   "metadata": {
    "tags": []
   },
   "outputs": [],
   "source": [
    "# if, elif, else. \n"
   ]
  },
  {
   "cell_type": "code",
   "execution_count": 26,
   "id": "0b25489d-20f7-48ba-ac8c-91aeae99ab86",
   "metadata": {
    "tags": []
   },
   "outputs": [
    {
     "name": "stdout",
     "output_type": "stream",
     "text": [
      "Cerrando\n"
     ]
    }
   ],
   "source": [
    "# Este código se ejecutará y funcionará únicamente bajo Python 3.10\n",
    "quit = True\n",
    "match quit:\n",
    "    case True:\n",
    "        print(\"Cerrando\")\n",
    "    case False:\n",
    "        print(\"Sistema prendido\")"
   ]
  },
  {
   "cell_type": "code",
   "execution_count": 27,
   "id": "ac24e0c6-21ea-4cbb-ac50-b1a75eb43945",
   "metadata": {
    "tags": []
   },
   "outputs": [
    {
     "name": "stdout",
     "output_type": "stream",
     "text": [
      "No autorizado\n"
     ]
    }
   ],
   "source": [
    "status = 401\n",
    "\n",
    "match status:\n",
    "    case 400:\n",
    "        print('Mala solicitud')\n",
    "    case 401:\n",
    "        print('No autorizado')\n",
    "    case 402:\n",
    "        print('Pago necesario')\n",
    "    case 403:\n",
    "        print('Prohibido')\n",
    "    case 404:\n",
    "        print('No encontrado')\n",
    "    case _:\n",
    "        print('código no reconocido')"
   ]
  },
  {
   "cell_type": "code",
   "execution_count": 28,
   "id": "5c1ed10f-f1f4-46b8-8c8d-379a6a96ba07",
   "metadata": {
    "tags": []
   },
   "outputs": [
    {
     "name": "stdout",
     "output_type": "stream",
     "text": [
      "Error de Autenticación\n"
     ]
    }
   ],
   "source": [
    "status = 403\n",
    "\n",
    "match status:\n",
    "    case 400:\n",
    "        print('Mala solicitud') \n",
    "    case 401 | 403: # es la operación lógica: o\n",
    "        print('Error de Autenticación')\n",
    "    case 404:\n",
    "        print('No encontrado')\n",
    "    case _:\n",
    "        print('otro tipo de código')"
   ]
  },
  {
   "cell_type": "code",
   "execution_count": 30,
   "id": "97d10998-88db-4082-b25b-9dee2fedbef2",
   "metadata": {
    "tags": []
   },
   "outputs": [
    {
     "name": "stdout",
     "output_type": "stream",
     "text": [
      "¡Empezando!\n",
      "0  1  2  3  4  5  6  7  8  9  \n",
      "¡Hecho!\n"
     ]
    }
   ],
   "source": [
    "contador = 0\n",
    "print('¡Empezando!')\n",
    "while contador < 10:\n",
    "    print(contador, ' ', end = '') #end no deja que se haga salto de línea . \n",
    "    contador = contador + 1\n",
    "print()\n",
    "print('¡Hecho!')"
   ]
  },
  {
   "cell_type": "code",
   "execution_count": 31,
   "id": "a88044b7-6ed5-464a-a122-f4b722ec5ce9",
   "metadata": {
    "tags": []
   },
   "outputs": [],
   "source": [
    "# cuando conoce uno los valores es mejor usar for si no los conozco y solo tengo una condición, es mejor usar while"
   ]
  },
  {
   "cell_type": "code",
   "execution_count": 34,
   "id": "e060702c-34e2-4310-9f5c-659146d27439",
   "metadata": {
    "tags": []
   },
   "outputs": [
    {
     "name": "stdout",
     "output_type": "stream",
     "text": [
      "0\n",
      "1\n",
      "2\n",
      "3\n",
      "4\n",
      "5\n"
     ]
    }
   ],
   "source": [
    "#sentencia break \n",
    "for i in range(10):\n",
    "    print(i)\n",
    "    if i == 5:\n",
    "        break"
   ]
  },
  {
   "cell_type": "code",
   "execution_count": 35,
   "id": "922c12ae-4c69-467e-b48e-71f458c7e4e8",
   "metadata": {
    "tags": []
   },
   "outputs": [],
   "source": [
    "def mysum_prod(x: int, y: int) -> [int, int]:\n",
    "    s = x + y\n",
    "    p = y * x\n",
    "    return [s,p]"
   ]
  },
  {
   "cell_type": "code",
   "execution_count": 37,
   "id": "a902079b-d19d-4977-a131-97a7b3e9a592",
   "metadata": {
    "tags": []
   },
   "outputs": [
    {
     "data": {
      "text/plain": [
       "[15, 36]"
      ]
     },
     "execution_count": 37,
     "metadata": {},
     "output_type": "execute_result"
    }
   ],
   "source": [
    "mysum_prod(12, 3)"
   ]
  },
  {
   "cell_type": "code",
   "execution_count": 40,
   "id": "ac68ab5f-2499-4314-9338-2eb71816d99a",
   "metadata": {
    "tags": []
   },
   "outputs": [],
   "source": [
    "# Ejemplo de una función recursiva\n",
    "def elevado_a_un_numero_entero_positivo_V2(base, exponente_natural):\n",
    "    if exponente_natural>=1 and isinstance(exponente_natural,int):\n",
    "        if exponente_natural == 1:\n",
    "            resultado = base\n",
    "        else:\n",
    "            resultado = base*elevado_a_un_numero_entero_positivo_V2(base, exponente_natural-1)\n",
    "        return resultado\n",
    "    else:\n",
    "        raise Exception('exponente_natural debe ser de tipo entero y mayor o igual a 1: ' + str(exponente_natural))"
   ]
  },
  {
   "cell_type": "code",
   "execution_count": 41,
   "id": "97d3ab98-2167-4fb9-90e7-2fb3038fdcc1",
   "metadata": {
    "tags": []
   },
   "outputs": [
    {
     "name": "stdout",
     "output_type": "stream",
     "text": [
      "-1.879080904\n",
      "-1.8790809039999998\n"
     ]
    }
   ],
   "source": [
    "# La función en acción:\n",
    "entrada1 = -1.234\n",
    "entrada2 = 3\n",
    "salida = elevado_a_un_numero_entero_positivo_V2(entrada1, entrada2)\n",
    "print(salida)\n",
    "# Para comparar:\n",
    "print(entrada1**entrada2)"
   ]
  },
  {
   "cell_type": "code",
   "execution_count": 45,
   "id": "955051ba-5e00-4e74-9a74-9e47d8bd334c",
   "metadata": {
    "tags": []
   },
   "outputs": [],
   "source": [
    "def devuelve_funcion(f, eps_0 = 1e-12):\n",
    "  def dnumf(x, eps = eps_0):\n",
    "    xpos = abs(x)\n",
    "    h = eps**0.5 if xpos <= 1 else (eps**0.5) * xpos\n",
    "    xph = x + h\n",
    "    dx = xph - x\n",
    "    y = (f(xph) - f(x)) / dx\n",
    "    return y\n",
    "  return dnumf"
   ]
  },
  {
   "cell_type": "code",
   "execution_count": 44,
   "id": "2cc34082-04e9-455d-8b4f-7165f033adfc",
   "metadata": {
    "tags": []
   },
   "outputs": [],
   "source": [
    "#Escriba un código que permita ver la función devuelve_funcion en acción\n",
    "#¿Cómo podría verificar que la función devuelve_funcion está funcionando correctamente? \n",
    "#¿se le ocurre algún código que le permita hacer una comparación de resultados?"
   ]
  },
  {
   "cell_type": "code",
   "execution_count": 47,
   "id": "886b7334-821d-4560-87f0-e72ac6a81567",
   "metadata": {
    "tags": []
   },
   "outputs": [
    {
     "ename": "Terminator",
     "evalue": "",
     "output_type": "error",
     "traceback": [
      "\u001b[0;31m---------------------------------------------------------------------------\u001b[0m",
      "\u001b[0;31mTerminator\u001b[0m                                Traceback (most recent call last)",
      "Cell \u001b[0;32mIn[47], line 21\u001b[0m\n\u001b[1;32m     19\u001b[0m turtle\u001b[38;5;241m.\u001b[39mleft(\u001b[38;5;241m90\u001b[39m)\n\u001b[1;32m     20\u001b[0m turtle\u001b[38;5;241m.\u001b[39mbackward(\u001b[38;5;241m30\u001b[39m)\n\u001b[0;32m---> 21\u001b[0m tree(\u001b[38;5;241m200\u001b[39m,\u001b[38;5;241m4\u001b[39m)\n",
      "Cell \u001b[0;32mIn[47], line 8\u001b[0m, in \u001b[0;36mtree\u001b[0;34m(length, n)\u001b[0m\n\u001b[1;32m      6\u001b[0m turtle\u001b[38;5;241m.\u001b[39mforward(length)\n\u001b[1;32m      7\u001b[0m turtle\u001b[38;5;241m.\u001b[39mleft(\u001b[38;5;241m45\u001b[39m)\n\u001b[0;32m----> 8\u001b[0m tree(length \u001b[38;5;241m*\u001b[39m \u001b[38;5;241m0.5\u001b[39m,length\u001b[38;5;241m/\u001b[39mn)\n\u001b[1;32m      9\u001b[0m turtle\u001b[38;5;241m.\u001b[39mleft(\u001b[38;5;241m20\u001b[39m)\n\u001b[1;32m     10\u001b[0m tree(length \u001b[38;5;241m*\u001b[39m \u001b[38;5;241m0.5\u001b[39m,length\u001b[38;5;241m/\u001b[39mn)\n",
      "Cell \u001b[0;32mIn[47], line 8\u001b[0m, in \u001b[0;36mtree\u001b[0;34m(length, n)\u001b[0m\n\u001b[1;32m      6\u001b[0m turtle\u001b[38;5;241m.\u001b[39mforward(length)\n\u001b[1;32m      7\u001b[0m turtle\u001b[38;5;241m.\u001b[39mleft(\u001b[38;5;241m45\u001b[39m)\n\u001b[0;32m----> 8\u001b[0m tree(length \u001b[38;5;241m*\u001b[39m \u001b[38;5;241m0.5\u001b[39m,length\u001b[38;5;241m/\u001b[39mn)\n\u001b[1;32m      9\u001b[0m turtle\u001b[38;5;241m.\u001b[39mleft(\u001b[38;5;241m20\u001b[39m)\n\u001b[1;32m     10\u001b[0m tree(length \u001b[38;5;241m*\u001b[39m \u001b[38;5;241m0.5\u001b[39m,length\u001b[38;5;241m/\u001b[39mn)\n",
      "Cell \u001b[0;32mIn[47], line 12\u001b[0m, in \u001b[0;36mtree\u001b[0;34m(length, n)\u001b[0m\n\u001b[1;32m     10\u001b[0m tree(length \u001b[38;5;241m*\u001b[39m \u001b[38;5;241m0.5\u001b[39m,length\u001b[38;5;241m/\u001b[39mn)\n\u001b[1;32m     11\u001b[0m turtle\u001b[38;5;241m.\u001b[39mright(\u001b[38;5;241m75\u001b[39m)\n\u001b[0;32m---> 12\u001b[0m tree(length \u001b[38;5;241m*\u001b[39m \u001b[38;5;241m0.5\u001b[39m,length\u001b[38;5;241m/\u001b[39mn)\n\u001b[1;32m     13\u001b[0m turtle\u001b[38;5;241m.\u001b[39mright(\u001b[38;5;241m20\u001b[39m)\n\u001b[1;32m     14\u001b[0m tree(length \u001b[38;5;241m*\u001b[39m \u001b[38;5;241m0.5\u001b[39m,length\u001b[38;5;241m/\u001b[39mn)\n",
      "Cell \u001b[0;32mIn[47], line 8\u001b[0m, in \u001b[0;36mtree\u001b[0;34m(length, n)\u001b[0m\n\u001b[1;32m      6\u001b[0m turtle\u001b[38;5;241m.\u001b[39mforward(length)\n\u001b[1;32m      7\u001b[0m turtle\u001b[38;5;241m.\u001b[39mleft(\u001b[38;5;241m45\u001b[39m)\n\u001b[0;32m----> 8\u001b[0m tree(length \u001b[38;5;241m*\u001b[39m \u001b[38;5;241m0.5\u001b[39m,length\u001b[38;5;241m/\u001b[39mn)\n\u001b[1;32m      9\u001b[0m turtle\u001b[38;5;241m.\u001b[39mleft(\u001b[38;5;241m20\u001b[39m)\n\u001b[1;32m     10\u001b[0m tree(length \u001b[38;5;241m*\u001b[39m \u001b[38;5;241m0.5\u001b[39m,length\u001b[38;5;241m/\u001b[39mn)\n",
      "Cell \u001b[0;32mIn[47], line 14\u001b[0m, in \u001b[0;36mtree\u001b[0;34m(length, n)\u001b[0m\n\u001b[1;32m     12\u001b[0m tree(length \u001b[38;5;241m*\u001b[39m \u001b[38;5;241m0.5\u001b[39m,length\u001b[38;5;241m/\u001b[39mn)\n\u001b[1;32m     13\u001b[0m turtle\u001b[38;5;241m.\u001b[39mright(\u001b[38;5;241m20\u001b[39m)\n\u001b[0;32m---> 14\u001b[0m tree(length \u001b[38;5;241m*\u001b[39m \u001b[38;5;241m0.5\u001b[39m,length\u001b[38;5;241m/\u001b[39mn)\n\u001b[1;32m     15\u001b[0m turtle\u001b[38;5;241m.\u001b[39mleft(\u001b[38;5;241m30\u001b[39m)\n\u001b[1;32m     16\u001b[0m turtle\u001b[38;5;241m.\u001b[39mbackward(length)\n",
      "Cell \u001b[0;32mIn[47], line 15\u001b[0m, in \u001b[0;36mtree\u001b[0;34m(length, n)\u001b[0m\n\u001b[1;32m     13\u001b[0m turtle\u001b[38;5;241m.\u001b[39mright(\u001b[38;5;241m20\u001b[39m)\n\u001b[1;32m     14\u001b[0m tree(length \u001b[38;5;241m*\u001b[39m \u001b[38;5;241m0.5\u001b[39m,length\u001b[38;5;241m/\u001b[39mn)\n\u001b[0;32m---> 15\u001b[0m turtle\u001b[38;5;241m.\u001b[39mleft(\u001b[38;5;241m30\u001b[39m)\n\u001b[1;32m     16\u001b[0m turtle\u001b[38;5;241m.\u001b[39mbackward(length)\n\u001b[1;32m     17\u001b[0m \u001b[38;5;28;01mreturn\u001b[39;00m\n",
      "File \u001b[0;32m<string>:5\u001b[0m, in \u001b[0;36mleft\u001b[0;34m(angle)\u001b[0m\n",
      "\u001b[0;31mTerminator\u001b[0m: "
     ]
    }
   ],
   "source": [
    "import turtle\n",
    "\n",
    "def tree(length,n):\n",
    "    if length < (length/n):\n",
    "        return\n",
    "    turtle.forward(length)\n",
    "    turtle.left(45)\n",
    "    tree(length * 0.5,length/n)\n",
    "    turtle.left(20)\n",
    "    tree(length * 0.5,length/n)\n",
    "    turtle.right(75)\n",
    "    tree(length * 0.5,length/n)\n",
    "    turtle.right(20)\n",
    "    tree(length * 0.5,length/n)\n",
    "    turtle.left(30)\n",
    "    turtle.backward(length)\n",
    "    return\n",
    "\n",
    "turtle.left(90)\n",
    "turtle.backward(30)\n",
    "tree(200,4)"
   ]
  },
  {
   "cell_type": "code",
   "execution_count": 48,
   "id": "4fb53231-987a-478c-a240-a8eff67a9b77",
   "metadata": {
    "tags": []
   },
   "outputs": [
    {
     "name": "stdout",
     "output_type": "stream",
     "text": [
      "Start\n",
      "1\n",
      "Continue\n",
      "2\n",
      "Final\n",
      "3\n",
      "End\n"
     ]
    }
   ],
   "source": [
    "\n",
    "def gen_numbers2():\n",
    "    print('Start')\n",
    "    yield 1\n",
    "    print('Continue')\n",
    "    yield 2\n",
    "    print('Final')\n",
    "    yield 3\n",
    "    print('End')\n",
    "\n",
    "for i in gen_numbers2():\n",
    "    print(i)"
   ]
  },
  {
   "cell_type": "code",
   "execution_count": 49,
   "id": "426820d5-4e5b-4e6e-82e5-6f0e1e9569cd",
   "metadata": {
    "tags": []
   },
   "outputs": [],
   "source": [
    "generador = gen_numbers2()"
   ]
  },
  {
   "cell_type": "code",
   "execution_count": 62,
   "id": "7bc114ea-22f4-48a8-b409-69c241015e48",
   "metadata": {
    "tags": []
   },
   "outputs": [],
   "source": [
    "def gen_numbers():\n",
    "    yield 1\n",
    "    yield 2\n",
    "    yield 3"
   ]
  },
  {
   "cell_type": "code",
   "execution_count": 50,
   "id": "bd364ec0-5f24-4c0b-adc0-59f6d7bf24c5",
   "metadata": {
    "tags": []
   },
   "outputs": [
    {
     "data": {
      "text/plain": [
       "<generator object gen_numbers2 at 0x7f0f80781c00>"
      ]
     },
     "execution_count": 50,
     "metadata": {},
     "output_type": "execute_result"
    }
   ],
   "source": [
    "generador"
   ]
  },
  {
   "cell_type": "code",
   "execution_count": 63,
   "id": "c9ed88f2-79d8-410d-a787-3d8ceba3e283",
   "metadata": {
    "tags": []
   },
   "outputs": [
    {
     "name": "stdout",
     "output_type": "stream",
     "text": [
      "[1, 2, 3]\n"
     ]
    }
   ],
   "source": [
    "generador=gen_numbers()\n",
    "a=[i for i in generador]\n",
    "print(a)"
   ]
  },
  {
   "cell_type": "code",
   "execution_count": 64,
   "id": "3a6a2ebc-7151-4fc3-92e1-87c7d282ea8a",
   "metadata": {
    "tags": []
   },
   "outputs": [],
   "source": [
    "class Evens(object):\n",
    "    def __init__(self, limit):\n",
    "        self.limit = limit\n",
    "        self.val = 0\n",
    "    \n",
    "    # Hace esta clase iterable\n",
    "    def __iter__(self):\n",
    "        return self\n",
    "    \n",
    "    # Hace esta clase un iterador\n",
    "    def __next__(self):\n",
    "        if self.val > self.limit:\n",
    "            raise StopIteration\n",
    "        else:\n",
    "            return_val = self.val\n",
    "            self.val += 2\n",
    "            return return_val"
   ]
  },
  {
   "cell_type": "code",
   "execution_count": 67,
   "id": "6c2bef5e-586e-4f2c-80c4-df746da43980",
   "metadata": {
    "tags": []
   },
   "outputs": [],
   "source": [
    "# que son los metodos __iter__ y __next__. Para definir como iterador.y next para definir como acceder al siguiente valor. \n",
    "# raise* también averiguar.(para lanzar un error)"
   ]
  },
  {
   "cell_type": "code",
   "execution_count": 68,
   "id": "628efb88-8d2d-453b-8668-44b384dc7c25",
   "metadata": {
    "tags": []
   },
   "outputs": [
    {
     "name": "stdout",
     "output_type": "stream",
     "text": [
      "¡Empezamos\n",
      "0, 2, 4, 6, 8, 10, 12, 14, 16, \n",
      "Hecho!\n"
     ]
    }
   ],
   "source": [
    "print('¡Empezamos')\n",
    "for i in Evens(16):\n",
    "    print(i,end=', ')\n",
    "print('\\nHecho!')"
   ]
  },
  {
   "cell_type": "code",
   "execution_count": 74,
   "id": "12ef8e5a-3412-466a-95a8-7d36116f7df5",
   "metadata": {
    "tags": []
   },
   "outputs": [
    {
     "data": {
      "text/plain": [
       "<__main__.Evens at 0x7f0f8010ce50>"
      ]
     },
     "execution_count": 74,
     "metadata": {},
     "output_type": "execute_result"
    }
   ],
   "source": [
    "generador = Evens(6)\n",
    "\n",
    "generador"
   ]
  },
  {
   "cell_type": "code",
   "execution_count": 77,
   "id": "2d6d0a0c-4565-4275-99c7-50ea02f435ca",
   "metadata": {
    "tags": []
   },
   "outputs": [
    {
     "data": {
      "text/plain": [
       "4"
      ]
     },
     "execution_count": 77,
     "metadata": {},
     "output_type": "execute_result"
    }
   ],
   "source": [
    "next(generador)"
   ]
  },
  {
   "cell_type": "code",
   "execution_count": null,
   "id": "b1178ddb-4689-410f-9b71-f0abe2c2b9f3",
   "metadata": {},
   "outputs": [],
   "source": []
  }
 ],
 "metadata": {
  "kernelspec": {
   "display_name": "Python 3 (ipykernel)",
   "language": "python",
   "name": "python3"
  },
  "language_info": {
   "codemirror_mode": {
    "name": "ipython",
    "version": 3
   },
   "file_extension": ".py",
   "mimetype": "text/x-python",
   "name": "python",
   "nbconvert_exporter": "python",
   "pygments_lexer": "ipython3",
   "version": "3.11.3"
  }
 },
 "nbformat": 4,
 "nbformat_minor": 5
}
