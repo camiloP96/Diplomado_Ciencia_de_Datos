{
 "cells": [
  {
   "cell_type": "markdown",
   "id": "345c1d78-293d-4f08-a49f-2c5c890c95c4",
   "metadata": {},
   "source": [
    "# Imprimir y tipos de variables."
   ]
  },
  {
   "cell_type": "code",
   "execution_count": 1,
   "id": "578bac09-3942-4fb4-bc7a-d88babc21648",
   "metadata": {
    "tags": []
   },
   "outputs": [
    {
     "name": "stdout",
     "output_type": "stream",
     "text": [
      "Hola mundo\n"
     ]
    }
   ],
   "source": [
    "print(\"Hola mundo\")"
   ]
  },
  {
   "cell_type": "code",
   "execution_count": 7,
   "id": "bdf191a2-472b-4c51-a557-bd285a3117e4",
   "metadata": {
    "tags": []
   },
   "outputs": [
    {
     "name": "stdout",
     "output_type": "stream",
     "text": [
      "solo se \n",
      " ...que nada se\n"
     ]
    }
   ],
   "source": [
    "print(\"solo se \\n ...que nada se\")\n",
    "# salto de linea es con slash inverso. \n"
   ]
  },
  {
   "cell_type": "code",
   "execution_count": 6,
   "id": "1fbefcaa-803f-497d-a413-12c6f771b76e",
   "metadata": {
    "tags": []
   },
   "outputs": [
    {
     "name": "stdout",
     "output_type": "stream",
     "text": [
      "El valor de x =  1\n"
     ]
    }
   ],
   "source": [
    "x=1\n",
    "#imprimir en pantalla\n",
    "print(\"El valor de x = \",1)"
   ]
  },
  {
   "cell_type": "code",
   "execution_count": 10,
   "id": "5498ce9a-8bf5-40ff-aed6-1e7e4060fc2d",
   "metadata": {
    "tags": []
   },
   "outputs": [
    {
     "name": "stdout",
     "output_type": "stream",
     "text": [
      "El valor de y es un char y equivale a = ¡Vamos a programar!\n",
      "otro print es automaticamente otro salto de linea\n"
     ]
    }
   ],
   "source": [
    "y=\"¡Vamos a programar!\"\n",
    "# imprimir en pantalla\n",
    "print(\"El valor de y es un char y equivale a =\",y)\n",
    "print(\"otro print es automaticamente otro salto de linea\")"
   ]
  },
  {
   "cell_type": "code",
   "execution_count": 12,
   "id": "366975f5-29a5-48df-b48d-628baa776856",
   "metadata": {
    "tags": []
   },
   "outputs": [
    {
     "name": "stdout",
     "output_type": "stream",
     "text": [
      "x es un numero entero 1234\n",
      "x es un numero entero 5.6\n",
      "x es un numero entero 25 de mayo\n"
     ]
    }
   ],
   "source": [
    "# La asignación de variables es dinámica. \n",
    "# por ejemplo:\n",
    "x = 1234\n",
    "print('x es un numero entero',x )\n",
    "\n",
    "x=5.6\n",
    "print('x es un numero entero',x )\n",
    "\n",
    "x='25 de mayo'\n",
    "print('x es un numero entero',x )\n",
    "\n"
   ]
  },
  {
   "cell_type": "markdown",
   "id": "92bc08ec-88d8-4869-8fd1-7424b96dc792",
   "metadata": {},
   "source": [
    "### Ejercicio de edad"
   ]
  },
  {
   "cell_type": "code",
   "execution_count": 13,
   "id": "f3421b92-091a-4ee8-9d9f-445f3b2df1d7",
   "metadata": {
    "tags": []
   },
   "outputs": [
    {
     "name": "stdin",
     "output_type": "stream",
     "text": [
      "Digite su edad:  26\n"
     ]
    },
    {
     "name": "stdout",
     "output_type": "stream",
     "text": [
      "Tengo 26 años\n"
     ]
    }
   ],
   "source": [
    "z=input(\"Digite su edad: \")\n",
    "\n",
    "print(\"Tengo\",z, \"años\")"
   ]
  },
  {
   "cell_type": "markdown",
   "id": "58036d28-fab6-452a-85c2-3b43e51b140d",
   "metadata": {},
   "source": [
    "### Números enteros"
   ]
  },
  {
   "cell_type": "code",
   "execution_count": 18,
   "id": "15fdb909-7b36-435c-9efb-22652f3a4aec",
   "metadata": {
    "tags": []
   },
   "outputs": [
    {
     "name": "stdout",
     "output_type": "stream",
     "text": [
      "1\n",
      "La variable x es de tipo =  <class 'int'>\n"
     ]
    }
   ],
   "source": [
    "t=1 \n",
    "print(x)\n",
    "#Type en este caso es una función que devuelve el tipo de dato:\n",
    "print(\"La variable x es de tipo = \",type(t))\n"
   ]
  },
  {
   "cell_type": "code",
   "execution_count": 19,
   "id": "f4fc0ccd-1471-4ed4-91ee-53515e171991",
   "metadata": {
    "tags": []
   },
   "outputs": [
    {
     "name": "stdout",
     "output_type": "stream",
     "text": [
      "La variable x es de tipo =  <class 'int'>\n"
     ]
    }
   ],
   "source": [
    "o = 10000000000000000000000000000000000000000000000000000000000000000000000000000000000000000000001\n",
    "print(\"La variable x es de tipo = \",type(o))"
   ]
  },
  {
   "cell_type": "code",
   "execution_count": 22,
   "id": "35c77e2c-3e55-4018-8018-8a53d4fd2066",
   "metadata": {
    "tags": []
   },
   "outputs": [
    {
     "name": "stdout",
     "output_type": "stream",
     "text": [
      "120\n",
      "El tipo de la variable total es  <class 'str'>\n"
     ]
    }
   ],
   "source": [
    "total='120'\n",
    "print(total)\n",
    "\n",
    "print(\"El tipo de la variable total es \", type(total))"
   ]
  },
  {
   "cell_type": "code",
   "execution_count": 23,
   "id": "07be48fd-5c9f-4928-8714-9e4a27496b0e",
   "metadata": {
    "tags": []
   },
   "outputs": [
    {
     "name": "stdout",
     "output_type": "stream",
     "text": [
      "El tipo de la variable total después de usar int es  <class 'int'>\n"
     ]
    }
   ],
   "source": [
    "total = int(total)\n",
    "\n",
    "print(\"El tipo de la variable total después de usar int es \", type(total))\n"
   ]
  },
  {
   "cell_type": "code",
   "execution_count": 28,
   "id": "00fe2c49-b0ca-45af-b670-e47d5e6b4552",
   "metadata": {
    "tags": []
   },
   "outputs": [
    {
     "name": "stdin",
     "output_type": "stream",
     "text": [
      "ingrese su edad 26\n"
     ]
    },
    {
     "name": "stdout",
     "output_type": "stream",
     "text": [
      "26\n",
      "el tipo de la variable edad es:  <class 'int'>\n"
     ]
    }
   ],
   "source": [
    "#input por defecto es un char siempre\n",
    "edad = int(input(\"ingrese su edad\"))\n",
    "print(edad)\n",
    "print(\"el tipo de la variable edad es: \",type(edad))\n"
   ]
  },
  {
   "cell_type": "markdown",
   "id": "063dd91f-9133-42dc-96ce-4369e275374d",
   "metadata": {},
   "source": [
    "Cada vez que se quiere cambiar una variable se antepone el tipo de la variable (la función) a la variable que se quiere modificar"
   ]
  },
  {
   "cell_type": "markdown",
   "id": "441dc19c-851c-42c8-b2f5-4c6095a16ff5",
   "metadata": {},
   "source": [
    "### Números Enteros"
   ]
  },
  {
   "cell_type": "code",
   "execution_count": 32,
   "id": "c8404a4b-37cb-4747-a295-85b4b2c17b55",
   "metadata": {
    "tags": []
   },
   "outputs": [
    {
     "name": "stdout",
     "output_type": "stream",
     "text": [
      "el tipo de la variable x es ahora <class 'float'>\n"
     ]
    }
   ],
   "source": [
    "x = 1.\n",
    "\n",
    "print(\"el tipo de la variable x es ahora\",type(x))"
   ]
  },
  {
   "cell_type": "markdown",
   "id": "78ffc09f-3936-4e31-a98f-90b860189d46",
   "metadata": {},
   "source": [
    "### Números complejos"
   ]
  },
  {
   "cell_type": "code",
   "execution_count": 36,
   "id": "ada5efc5-1e6a-4659-9269-cbe767d95561",
   "metadata": {
    "tags": []
   },
   "outputs": [
    {
     "name": "stdout",
     "output_type": "stream",
     "text": [
      "(3.4+4j)\n",
      "el tipo de variable de x es : <class 'complex'>\n"
     ]
    }
   ],
   "source": [
    "x = 3.4+4j\n",
    "print(x)\n",
    "print(\"el tipo de variable de x es :\",type(x))\n"
   ]
  },
  {
   "cell_type": "markdown",
   "id": "f995c1a2-aec1-47b3-b31e-3e4fc49e4850",
   "metadata": {},
   "source": [
    "### Booleanos"
   ]
  },
  {
   "cell_type": "code",
   "execution_count": 39,
   "id": "fdabadad-8bfc-45b3-b576-f4e69c47393c",
   "metadata": {
    "tags": []
   },
   "outputs": [
    {
     "name": "stdout",
     "output_type": "stream",
     "text": [
      "False\n",
      "el tipo de variable de x es : <class 'bool'>\n"
     ]
    }
   ],
   "source": [
    "x = False\n",
    "print(x)\n",
    "print(\"el tipo de variable de x es :\",type(x))"
   ]
  },
  {
   "cell_type": "markdown",
   "id": "30179b49-c87b-4b01-90f0-dc2f046ae0c3",
   "metadata": {},
   "source": [
    "### NONE"
   ]
  },
  {
   "cell_type": "code",
   "execution_count": 40,
   "id": "4fc80fbe-abbd-42b7-be9f-8fbb52d70684",
   "metadata": {
    "tags": []
   },
   "outputs": [
    {
     "name": "stdout",
     "output_type": "stream",
     "text": [
      "None\n",
      "el tipo de variable de x es : <class 'NoneType'>\n"
     ]
    }
   ],
   "source": [
    "x = None\n",
    "print(x)\n",
    "print(\"el tipo de variable de x es :\",type(x))"
   ]
  },
  {
   "cell_type": "markdown",
   "id": "f52d9418-212c-42c5-b9c8-2ed4c82a6a3d",
   "metadata": {},
   "source": [
    "### Ejercicio"
   ]
  },
  {
   "cell_type": "code",
   "execution_count": 41,
   "id": "ed6b565c-bd71-479e-b7a8-10ceccbbc5e4",
   "metadata": {
    "tags": []
   },
   "outputs": [
    {
     "name": "stdout",
     "output_type": "stream",
     "text": [
      "False\n"
     ]
    }
   ],
   "source": [
    "z=5 \n",
    "\n",
    "print(z is None)"
   ]
  },
  {
   "cell_type": "markdown",
   "id": "4e02bc54-80da-4f5c-b53d-a9b9a9417144",
   "metadata": {},
   "source": [
    "### Texto"
   ]
  },
  {
   "cell_type": "code",
   "execution_count": 42,
   "id": "cbed67df-5c1f-47f1-b683-b205d0c6de2d",
   "metadata": {
    "tags": []
   },
   "outputs": [
    {
     "name": "stdout",
     "output_type": "stream",
     "text": [
      "este texto es comillas sencillas\n"
     ]
    }
   ],
   "source": [
    "a = 'este texto es comillas sencillas'\n",
    "print(a)"
   ]
  },
  {
   "cell_type": "code",
   "execution_count": 43,
   "id": "310d1eb8-a12e-4b4c-9019-aebba5e96097",
   "metadata": {
    "tags": []
   },
   "outputs": [
    {
     "name": "stdout",
     "output_type": "stream",
     "text": [
      "este texto es \"comillas\" sencillas con comillas dobles afuera\n"
     ]
    }
   ],
   "source": [
    "a = 'este texto es \"comillas\" sencillas con comillas dobles afuera'\n",
    "print(a)"
   ]
  },
  {
   "cell_type": "code",
   "execution_count": 44,
   "id": "38fbcbf7-530d-49be-a4d3-4c68135cd477",
   "metadata": {
    "tags": []
   },
   "outputs": [
    {
     "data": {
      "text/plain": [
       "'\\nESto \\nes \\nun \\ncomentario \\nre \\nlargo\\n'"
      ]
     },
     "execution_count": 44,
     "metadata": {},
     "output_type": "execute_result"
    }
   ],
   "source": [
    "#comentario con comillas simples triples \n",
    "'''\n",
    "ESto \n",
    "es \n",
    "un \n",
    "comentario \n",
    "re \n",
    "largo\n",
    "'''"
   ]
  },
  {
   "cell_type": "code",
   "execution_count": 47,
   "id": "f81844f1-633b-4146-bfc2-9d43fe3b11a3",
   "metadata": {
    "tags": []
   },
   "outputs": [
    {
     "name": "stdout",
     "output_type": "stream",
     "text": [
      "salto de linea es \"\\n\" \n",
      " tal que así\n"
     ]
    }
   ],
   "source": [
    "print('salto de linea es \"\\\\n\" \\n tal que así')"
   ]
  },
  {
   "cell_type": "code",
   "execution_count": 61,
   "id": "e0cb8c96-bcab-4354-84ea-2e501034e3ad",
   "metadata": {
    "tags": []
   },
   "outputs": [],
   "source": [
    "text = \"Se puede extraer un caracter del texto usando brakerts \""
   ]
  },
  {
   "cell_type": "code",
   "execution_count": 62,
   "id": "947809c7-dbd9-462b-8fa3-bcd5096b1d4d",
   "metadata": {
    "tags": []
   },
   "outputs": [
    {
     "name": "stdout",
     "output_type": "stream",
     "text": [
      "e\n"
     ]
    }
   ],
   "source": [
    "print(text[5])"
   ]
  },
  {
   "cell_type": "code",
   "execution_count": 63,
   "id": "707a2e90-8bc1-49fe-b93d-99914c754207",
   "metadata": {
    "tags": []
   },
   "outputs": [
    {
     "name": "stdout",
     "output_type": "stream",
     "text": [
      "2\n"
     ]
    },
    {
     "ename": "NameError",
     "evalue": "name 'n' is not defined",
     "output_type": "error",
     "traceback": [
      "\u001b[0;31m---------------------------------------------------------------------------\u001b[0m",
      "\u001b[0;31mNameError\u001b[0m                                 Traceback (most recent call last)",
      "Cell \u001b[0;32mIn[63], line 5\u001b[0m\n\u001b[1;32m      3\u001b[0m \u001b[38;5;28mprint\u001b[39m(n)\n\u001b[1;32m      4\u001b[0m \u001b[38;5;28;01mdel\u001b[39;00m n \n\u001b[0;32m----> 5\u001b[0m \u001b[38;5;28mprint\u001b[39m(\u001b[38;5;28mtype\u001b[39m(n))\n",
      "\u001b[0;31mNameError\u001b[0m: name 'n' is not defined"
     ]
    }
   ],
   "source": [
    "#para borrar una variable se usar del \n",
    "n = 2\n",
    "print(n)\n",
    "del n \n",
    "print(type(n))\n"
   ]
  },
  {
   "cell_type": "code",
   "execution_count": 56,
   "id": "64967400-5e47-47f8-aa6e-e9a1ee11f783",
   "metadata": {
    "tags": []
   },
   "outputs": [
    {
     "name": "stdout",
     "output_type": "stream",
     "text": [
      "Apple\n",
      "Watermelon\n",
      "Grape\n",
      "28\n",
      "Apple, Watermelon, Grape, 28\n"
     ]
    }
   ],
   "source": [
    "# Asignación múltiple\n",
    "w, x, y, z = \"Apple\", \"Watermelon\", \"Grape\", 28\n",
    "print(w)\n",
    "print(x)\n",
    "print(y)\n",
    "print(z)\n",
    "print(w, x, y, z, sep=\", \")"
   ]
  },
  {
   "cell_type": "code",
   "execution_count": 58,
   "id": "f044d798-06d3-460a-90dc-861ed81883b1",
   "metadata": {
    "tags": []
   },
   "outputs": [
    {
     "name": "stdout",
     "output_type": "stream",
     "text": [
      "True\n",
      "False\n"
     ]
    }
   ],
   "source": [
    "a=1\n",
    "b=1.0\n",
    "print(a==b)\n",
    "print(a is b)\n"
   ]
  },
  {
   "cell_type": "code",
   "execution_count": null,
   "id": "32e5c807-4bbd-48fb-b498-9b71f9728ffe",
   "metadata": {},
   "outputs": [],
   "source": []
  }
 ],
 "metadata": {
  "kernelspec": {
   "display_name": "Python 3 (ipykernel)",
   "language": "python",
   "name": "python3"
  },
  "language_info": {
   "codemirror_mode": {
    "name": "ipython",
    "version": 3
   },
   "file_extension": ".py",
   "mimetype": "text/x-python",
   "name": "python",
   "nbconvert_exporter": "python",
   "pygments_lexer": "ipython3",
   "version": "3.11.3"
  }
 },
 "nbformat": 4,
 "nbformat_minor": 5
}
