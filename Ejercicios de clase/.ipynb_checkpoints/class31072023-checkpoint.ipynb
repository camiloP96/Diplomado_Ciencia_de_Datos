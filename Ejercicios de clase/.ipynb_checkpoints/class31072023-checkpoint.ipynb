{
 "cells": [
  {
   "cell_type": "code",
   "execution_count": 2,
   "id": "3eebaca9-1c3c-451a-b6be-1fafe5251c30",
   "metadata": {
    "tags": []
   },
   "outputs": [
    {
     "data": {
      "text/plain": [
       "'\\nTuplas: inmodificables, usa parentesis.\\nListas: modificables, usa corchetes cuadrados.\\n\\nAmbas son recorribles. A través de \\n\\n'"
      ]
     },
     "execution_count": 2,
     "metadata": {},
     "output_type": "execute_result"
    }
   ],
   "source": [
    "#Listas y tuplas \n",
    "'''\n",
    "Tuplas: \"objetos inmutables\", usa parentesis.\n",
    "Listas: modificables, usa corchetes cuadrados.\n",
    "\n",
    "Ambas son recorribles (iterables). A través de for's o while's. \n",
    "\n",
    "'''"
   ]
  },
  {
   "cell_type": "code",
   "execution_count": 3,
   "id": "53d18fc3-4321-418a-a5bb-393243053b85",
   "metadata": {
    "tags": []
   },
   "outputs": [],
   "source": [
    "lista=[\"camilo\",\"carlos\",\"lorena\",\"finca\"]\n",
    "tupla=(\"camilo\",2,\"arriendo\",\"carajillo\")"
   ]
  },
  {
   "cell_type": "code",
   "execution_count": 6,
   "id": "67c852a4-8b47-4d49-849d-e35c9ac557b8",
   "metadata": {
    "tags": []
   },
   "outputs": [
    {
     "name": "stdout",
     "output_type": "stream",
     "text": [
      "camilo carlos lorena finca "
     ]
    }
   ],
   "source": [
    "for i in lista:\n",
    "    print(i, end=\" \")"
   ]
  },
  {
   "cell_type": "code",
   "execution_count": 7,
   "id": "fdde5b24-491d-40d6-ba3b-c048d9efc08b",
   "metadata": {
    "tags": []
   },
   "outputs": [
    {
     "name": "stdout",
     "output_type": "stream",
     "text": [
      "camilo 2 arriendo carajillo "
     ]
    }
   ],
   "source": [
    "for i in tupla:\n",
    "    print(i, end=\" \")"
   ]
  },
  {
   "cell_type": "code",
   "execution_count": 9,
   "id": "67945d57-26d9-4627-894f-daf1d241074c",
   "metadata": {
    "tags": []
   },
   "outputs": [
    {
     "name": "stdout",
     "output_type": "stream",
     "text": [
      "camilo\n",
      "carajillo\n"
     ]
    }
   ],
   "source": [
    "#recorrer listas y tuplas\n",
    "print(lista[0])\n",
    "print(tupla[3])"
   ]
  },
  {
   "cell_type": "code",
   "execution_count": 11,
   "id": "0d66b393-96b4-4c8c-afc7-f7a1ef2fb1f4",
   "metadata": {
    "tags": []
   },
   "outputs": [
    {
     "name": "stdout",
     "output_type": "stream",
     "text": [
      "l\n"
     ]
    }
   ],
   "source": [
    "#se puede acceder a cada string dentro de cada tupla de la siguiente manera: por ejemplo el 4 elemento del string 0 de lista\n",
    "print(lista[0][4])"
   ]
  },
  {
   "cell_type": "code",
   "execution_count": 13,
   "id": "f6169e2c-2e95-4eac-9b70-ff5bd7fe52fb",
   "metadata": {
    "tags": []
   },
   "outputs": [],
   "source": [
    "lista2=[lista, tupla, \"camilo\",\"carlos\"]\n",
    "lista3=[lista2, \"pedrini\",\"ivan\",2,3]"
   ]
  },
  {
   "cell_type": "code",
   "execution_count": 15,
   "id": "90e0ede6-49c9-4be9-abdd-cc1f1a4af6f1",
   "metadata": {
    "tags": []
   },
   "outputs": [
    {
     "name": "stdout",
     "output_type": "stream",
     "text": [
      "e\n"
     ]
    }
   ],
   "source": [
    "print(lista3[0][0][2][3])"
   ]
  },
  {
   "cell_type": "code",
   "execution_count": 17,
   "id": "aa120a28-aab3-46fd-b6f6-ece35408ef40",
   "metadata": {
    "tags": []
   },
   "outputs": [
    {
     "name": "stdout",
     "output_type": "stream",
     "text": [
      "('a', 'b', 'c', 'd', 'e')\n",
      "['a', 'b', 'c', 'd', 'e']\n"
     ]
    }
   ],
   "source": [
    "#convertir de tupla a lista \n",
    "convertirTupla=('a','b','c','d','e')\n",
    "vocalLista = list(convertirTupla )\n",
    "\n",
    "print(convertirTupla)\n",
    "print(vocalLista)"
   ]
  },
  {
   "cell_type": "code",
   "execution_count": 18,
   "id": "68408144-2ce0-48e1-837e-6ad3c17e7971",
   "metadata": {
    "tags": []
   },
   "outputs": [
    {
     "name": "stdout",
     "output_type": "stream",
     "text": [
      "alfabeto es un objeto string:  <class 'str'>\n"
     ]
    }
   ],
   "source": [
    "#dividir en unidades (\"Tokenizar\")\n",
    "alfabeto = 'abcdefghijklmnñopqrstuvwxyz'\n",
    "print( 'alfabeto es un objeto string: ',type(alfabeto))"
   ]
  },
  {
   "cell_type": "code",
   "execution_count": 19,
   "id": "b744a2fe-8a00-4763-833b-548b1a50b338",
   "metadata": {
    "tags": []
   },
   "outputs": [
    {
     "name": "stdout",
     "output_type": "stream",
     "text": [
      "['a', 'b', 'c', 'd', 'e', 'f', 'g', 'h', 'i', 'j', 'k', 'l', 'm', 'n', 'ñ', 'o', 'p', 'q', 'r', 's', 't', 'u', 'v', 'w', 'x', 'y', 'z']\n"
     ]
    }
   ],
   "source": [
    "alfaL = []\n",
    "\n",
    "for i in alfabeto:\n",
    "    alfaL.append(i) #¿se agregan los elementos en la lista vacia? \n",
    "\n",
    "print(alfaL)"
   ]
  },
  {
   "cell_type": "code",
   "execution_count": 23,
   "id": "1678b769-bc8f-4b13-aa67-16e1ae0ddf8f",
   "metadata": {
    "tags": []
   },
   "outputs": [
    {
     "name": "stdout",
     "output_type": "stream",
     "text": [
      "['a', 'b', 'c', 'd', 'e', 'f', 'g', 'h', 'i', 'j', 'k', 'l', 'm', 'n', 'ñ', 'o', 'p', 'q', 'r', 's', 't', 'u', 'v', 'w', 'x', 'y', 'z']\n"
     ]
    }
   ],
   "source": [
    "#crear lista por compresión, manera alternativa de construcción (es código de tipo lambda)\n",
    "alfaH = [i for i in alfabeto]\n",
    "print(alfaH)"
   ]
  },
  {
   "cell_type": "code",
   "execution_count": 27,
   "id": "8d3e3006-5bf9-43df-a4e1-f452bd3d3e68",
   "metadata": {
    "tags": []
   },
   "outputs": [
    {
     "name": "stdout",
     "output_type": "stream",
     "text": [
      "alfaL =  ['a', 'b', 'c', 'd', 'e', 'f', 'g', 'h', 'i', 'j', 'k', 'l', 'm', 'n', 'ñ', 'o', 'p', 'q', 'r', 's', 't', 'u', 'v', 'w', 'x', 'y', 'z']\n",
      "\n",
      "\n",
      "numL =  [0, 1, 2, 3, 4, 5, 6, 7, 8, 9, 10, 11, 12, 13, 14, 15, 16, 17, 18, 19, 20, 21, 22, 23, 24, 25, 26]\n",
      "\n",
      "\n",
      "alfanumL ['a', 'b', 'c', 'd', 'e', 'f', 'g', 'h', 'i', 'j', 'k', 'l', 'm', 'n', 'ñ', 'o', 'p', 'q', 'r', 's', 't', 'u', 'v', 'w', 'x', 'y', 'z', 0, 1, 2, 3, 4, 5, 6, 7, 8, 9, 10, 11, 12, 13, 14, 15, 16, 17, 18, 19, 20, 21, 22, 23, 24, 25, 26]\n",
      "\n",
      "\n",
      "alfanumLL [['a', 'b', 'c', 'd', 'e', 'f', 'g', 'h', 'i', 'j', 'k', 'l', 'm', 'n', 'ñ', 'o', 'p', 'q', 'r', 's', 't', 'u', 'v', 'w', 'x', 'y', 'z'], [0, 1, 2, 3, 4, 5, 6, 7, 8, 9, 10, 11, 12, 13, 14, 15, 16, 17, 18, 19, 20, 21, 22, 23, 24, 25, 26]]\n"
     ]
    }
   ],
   "source": [
    "#concatenar dos listas\n",
    "\n",
    "N = len(alfaL)\n",
    "\n",
    "numL=[]\n",
    "\n",
    "for i in range(N):\n",
    "    numL.append(i)\n",
    "    \n",
    "print('alfaL = ',alfaL)\n",
    "print('\\n')\n",
    "print('numL = ',numL)\n",
    "print('\\n')\n",
    "\n",
    "# aca se concatena\n",
    "alfanumL = alfaL + numL # acá los elementos se colocan al final de la primera.\n",
    "alfanumLL=[alfaL,numL] # aca se crea otra lista, una lista de listas.\n",
    "\n",
    "print('alfanumL',alfanumL)\n",
    "print('\\n')\n",
    "print('alfanumLL', alfanumLL)\n"
   ]
  },
  {
   "cell_type": "code",
   "execution_count": 33,
   "id": "fde2bb58-bdc9-4d59-a920-548c6cb3d42e",
   "metadata": {
    "tags": []
   },
   "outputs": [
    {
     "name": "stdout",
     "output_type": "stream",
     "text": [
      "54 26\n",
      "2\n"
     ]
    }
   ],
   "source": [
    "#comprobaciones. \n",
    "print(len(alfanumL),alfanumL[53] )\n",
    "print(len(alfanumLL))"
   ]
  },
  {
   "cell_type": "code",
   "execution_count": 34,
   "id": "58328840-342e-4332-9ece-35871006b230",
   "metadata": {
    "tags": []
   },
   "outputs": [
    {
     "name": "stdout",
     "output_type": "stream",
     "text": [
      "a 0\n",
      "b 1\n",
      "c 2\n",
      "d 3\n",
      "e 4\n",
      "f 5\n",
      "g 6\n",
      "h 7\n",
      "i 8\n",
      "j 9\n",
      "k 10\n",
      "l 11\n",
      "m 12\n",
      "n 13\n",
      "ñ 14\n",
      "o 15\n",
      "p 16\n",
      "q 17\n",
      "r 18\n",
      "s 19\n",
      "t 20\n",
      "u 21\n",
      "v 22\n",
      "w 23\n",
      "x 24\n",
      "y 25\n",
      "z 26\n"
     ]
    }
   ],
   "source": [
    "#pasar del indice al objeto\n",
    "for i in range(N):\n",
    "    print(alfanumLL[0][i],alfanumLL[1][i] )\n",
    "    "
   ]
  },
  {
   "cell_type": "code",
   "execution_count": 35,
   "id": "694ef81f-74b7-4512-b00c-7bd56de29f6d",
   "metadata": {
    "tags": []
   },
   "outputs": [
    {
     "name": "stdout",
     "output_type": "stream",
     "text": [
      "['a', 'b', 'd', 'e', 'f', 'g', 'h', 'i', 'j', 'k', 'l', 'm', 'n', 'ñ', 'o', 'p', 'q', 'r', 's', 't', 'u', 'v', 'w', 'x', 'y', 'z']\n"
     ]
    }
   ],
   "source": [
    "#eliminar un objeto \n",
    "alfaL.remove('c')\n",
    "print(alfaL)"
   ]
  },
  {
   "cell_type": "code",
   "execution_count": 41,
   "id": "41c9b801-d09d-4640-aa3d-5d98a43021ff",
   "metadata": {
    "tags": []
   },
   "outputs": [
    {
     "name": "stdout",
     "output_type": "stream",
     "text": [
      "['w', 'b', 'd', 'e', 'f', 'g', 'h', 'i', 'j', 'k', 'l', 'm', 'n', 'ñ', 'o', 'p', 'q', 'r', 's', 't', 'u', 'v', 'w', 'x', 'y', 'z']\n",
      "['w', 'b', 'd', 'e', 'f', 'g', 'h', 'i', 'j', 'k', 'l', 'm', 'n', 'ñ', 'o', 'p', 'q', 'r', 's', 't', 'u', 'v', 'w', 'x', 'y', 'z']\n",
      "gammaL ['w', 'b', 'd', 'e', 'f', 'g', 'h', 'i', 'j', 'k', 'l', 'm', 'n', 'ñ', 'o', 'p', 'q', 'r', 's', 't', 'u', 'v', 'w', 'x', 'y', 'z']\n",
      "['i', 'b', 'd', 'e', 'f', 'g', 'h', 'i', 'j', 'k', 'l', 'm', 'n', 'ñ', 'o', 'p', 'q', 'r', 's', 't', 'u', 'v', 'w', 'x', 'y', 'z']\n"
     ]
    }
   ],
   "source": [
    "betaL = alfaL #esto creo un alias ()\n",
    "betaL[0]='w'#al modificarla, se modifico también alfaL\n",
    "print(betaL)\n",
    "print(alfaL)\n",
    "gammaL = betaL.copy()\n",
    "print(\"gammaL\",gammaL)\n",
    "gammaL[0]='i'\n",
    "print(gammaL)"
   ]
  },
  {
   "cell_type": "raw",
   "id": "132b1a6f-a4c9-4b67-ae5b-82863ba905ac",
   "metadata": {},
   "source": [
    "Method\tDescription\n",
    "append()\tAgrega un elemento al final de la lista\n",
    "clear()\tRemueve todo los elementos de la lista\n",
    "copy()\tRegresa una copia de la lista\n",
    "count()\tRegresa el número de elementos con el valor especificado\n",
    "extend()\tAgrega elementos de una lista (o cualquier iterable) al final de esta lista\n",
    "index()\tRegresa el índice del primer elemento con el valor especificado\n",
    "insert()\tAdiciona un elemento en la posición especificada\n",
    "pop()\tRemueve un elemento en la posición especificada y puede retornarlo si se hce una asignación\n",
    "remove()\tRemueve el item con este valor específico\n",
    "reverse()\tInvierte el orden de la lista\n",
    "sort()\tOrdena la lista"
   ]
  },
  {
   "cell_type": "code",
   "execution_count": 44,
   "id": "8fd44274-7413-4430-9a91-0ab3f4580333",
   "metadata": {
    "tags": []
   },
   "outputs": [
    {
     "name": "stdout",
     "output_type": "stream",
     "text": [
      "['manzana', 'guanabana', 'Mango']\n"
     ]
    }
   ],
   "source": [
    "#Compresión de Listas!\n",
    "\n",
    "frutas = [\"manzana\", \"kiwi\", \"guanabana\", \"limón\", \"níspero\", \"Pomelo\", \"Mango\"]\n",
    "\n",
    "lista2 = []\n",
    "\n",
    "for x in frutas:\n",
    "    if \"a\" in x:\n",
    "        lista2.append(x)\n",
    "        \n",
    "print(lista2)"
   ]
  },
  {
   "cell_type": "code",
   "execution_count": 43,
   "id": "9ab7a45d-0a05-4ec1-a0bb-7f0acb59e660",
   "metadata": {
    "tags": []
   },
   "outputs": [
    {
     "name": "stdout",
     "output_type": "stream",
     "text": [
      "['manzana', 'guanabana', 'Mango']\n"
     ]
    }
   ],
   "source": [
    "lista2 = [x for x in frutas if \"a\" in x]\n",
    "print(lista2)"
   ]
  },
  {
   "cell_type": "code",
   "execution_count": 46,
   "id": "201e0a05-9236-4175-af40-6166f7c8c1f7",
   "metadata": {
    "tags": []
   },
   "outputs": [
    {
     "name": "stdout",
     "output_type": "stream",
     "text": [
      "['kiwi', 'limón', 'níspero', 'Pomelo']\n"
     ]
    }
   ],
   "source": [
    "#Podemos usar cualquier operador lógico y operador de comparación en estos casos\n",
    "lista2 = [x for x in frutas if \"a\" not in x]\n",
    "print(lista2)"
   ]
  },
  {
   "cell_type": "code",
   "execution_count": 48,
   "id": "745965c0-44b5-446d-a74b-35938b7082d3",
   "metadata": {
    "tags": []
   },
   "outputs": [
    {
     "name": "stdout",
     "output_type": "stream",
     "text": [
      "{'Leticia': 'Amazonas', 'Montería': 'Sinu', 'Bogotá': ['Bogotá', 'Tunjelito'], 'San Gil': 'Fonce', 'Honda': 'Magdalena'}\n"
     ]
    }
   ],
   "source": [
    "# Diccionarios. \n",
    "\n",
    "Rios = {\n",
    "   'Leticia' : 'Amazonas',\n",
    "    'Montería': 'Sinu',\n",
    "'Bogotá'  : ['Bogotá', 'Tunjelito'],\n",
    "  'San Gil': 'Fonce',\n",
    "   'Honda'  : 'Magdalena'\n",
    " }\n",
    "\n",
    "print(Rios)"
   ]
  },
  {
   "cell_type": "code",
   "execution_count": 49,
   "id": "77299ded-e117-4e42-8bab-0ec0b4f1dc2b",
   "metadata": {
    "tags": []
   },
   "outputs": [
    {
     "name": "stdout",
     "output_type": "stream",
     "text": [
      "Los rios de Montería son: Sinu\n",
      "Los rios de Bogotá son: ['Bogotá', 'Tunjelito']\n"
     ]
    }
   ],
   "source": [
    "print('Los rios de Montería son:', Rios['Montería'])\n",
    "print('Los rios de Bogotá son:', Rios['Bogotá'])"
   ]
  },
  {
   "cell_type": "code",
   "execution_count": 50,
   "id": "df9e7327-5494-4cba-81cc-29ee5fbf81b7",
   "metadata": {
    "tags": []
   },
   "outputs": [
    {
     "name": "stdout",
     "output_type": "stream",
     "text": [
      "{'Colores': ['Negro', 'Rojo', 'Azul'], 'Animales': 'Gato', 'Calzado': ['Botas', 'Botines', 'Deportivos', 'Sandalias']}\n"
     ]
    }
   ],
   "source": [
    "my_dic=dict([\n",
    "             ('Colores', ['Negro','Rojo','Azul']),\n",
    "             ('Animales', 'Gato'),\n",
    "             ('Calzado', ['Botas','Botines','Deportivos','Sandalias'])\n",
    "            ])\n",
    "\n",
    "print(my_dic)"
   ]
  },
  {
   "cell_type": "code",
   "execution_count": 51,
   "id": "b2c5da52-3a57-4cf5-b98b-b5b0164bf595",
   "metadata": {
    "tags": []
   },
   "outputs": [
    {
     "name": "stdout",
     "output_type": "stream",
     "text": [
      "['Negro', 'Rojo', 'Azul']\n"
     ]
    }
   ],
   "source": [
    "print(my_dic['Colores'])"
   ]
  },
  {
   "cell_type": "code",
   "execution_count": 52,
   "id": "234f8238-a853-466b-bbf7-ef849b8bbc33",
   "metadata": {
    "tags": []
   },
   "outputs": [
    {
     "name": "stdout",
     "output_type": "stream",
     "text": [
      "Collecting numpy\n",
      "  Obtaining dependency information for numpy from https://files.pythonhosted.org/packages/32/6a/65dbc57a89078af9ff8bfcd4c0761a50172d90192eaeb1b6f56e5fbf1c3d/numpy-1.25.2-cp311-cp311-manylinux_2_17_x86_64.manylinux2014_x86_64.whl.metadata\n",
      "  Downloading numpy-1.25.2-cp311-cp311-manylinux_2_17_x86_64.manylinux2014_x86_64.whl.metadata (5.6 kB)\n",
      "Downloading numpy-1.25.2-cp311-cp311-manylinux_2_17_x86_64.manylinux2014_x86_64.whl (18.2 MB)\n",
      "\u001b[2K   \u001b[38;2;114;156;31m━━━━━━━━━━━━━━━━━━━━━━━━━━━━━━━━━━━━━━━━\u001b[0m \u001b[32m18.2/18.2 MB\u001b[0m \u001b[31m15.6 MB/s\u001b[0m eta \u001b[36m0:00:00\u001b[0mm eta \u001b[36m0:00:01\u001b[0m[36m0:00:01\u001b[0m\n",
      "\u001b[?25hInstalling collected packages: numpy\n",
      "Successfully installed numpy-1.25.2\n",
      "Note: you may need to restart the kernel to use updated packages.\n"
     ]
    }
   ],
   "source": [
    "pip install numpy"
   ]
  },
  {
   "cell_type": "code",
   "execution_count": 53,
   "id": "0499e94f-c0cb-4fe7-a5ba-798122addaff",
   "metadata": {
    "tags": []
   },
   "outputs": [],
   "source": [
    "import numpy as np"
   ]
  },
  {
   "cell_type": "code",
   "execution_count": 54,
   "id": "d234fe23-a1f1-4ab9-a286-dee89a98dc0d",
   "metadata": {
    "tags": []
   },
   "outputs": [
    {
     "name": "stdout",
     "output_type": "stream",
     "text": [
      "type(a): <class 'numpy.ndarray'> \n",
      "\n",
      "a:\n",
      "13\n"
     ]
    },
    {
     "data": {
      "text/plain": [
       "array(13)"
      ]
     },
     "execution_count": 54,
     "metadata": {},
     "output_type": "execute_result"
    }
   ],
   "source": [
    "a = np.array(13) #array de dimensión 0\n",
    "print(\"type(a):\", type(a), \"\\n\")\n",
    "print(\"a:\", a, sep = \"\\n\")\n",
    "a"
   ]
  },
  {
   "cell_type": "code",
   "execution_count": 55,
   "id": "2b675699-e9ea-4f36-b59b-61c74693d0b4",
   "metadata": {
    "tags": []
   },
   "outputs": [
    {
     "name": "stdout",
     "output_type": "stream",
     "text": [
      "b:\n",
      "[1 2 3 4]\n"
     ]
    },
    {
     "data": {
      "text/plain": [
       "array([1, 2, 3, 4])"
      ]
     },
     "execution_count": 55,
     "metadata": {},
     "output_type": "execute_result"
    }
   ],
   "source": [
    "b = np.array([1, 2, 3, 4]) #array de dimensión 1\n",
    "print(\"b:\", b, sep = \"\\n\")\n",
    "b"
   ]
  },
  {
   "cell_type": "code",
   "execution_count": 56,
   "id": "ad5c0a0d-b296-44be-9cc4-0d576abc54ca",
   "metadata": {
    "tags": []
   },
   "outputs": [
    {
     "name": "stdout",
     "output_type": "stream",
     "text": [
      "c:\n",
      "[[1 2 3 4]\n",
      " [5 6 7 8]]\n",
      "d:\n",
      "[[[ 1  2  3  4]\n",
      "  [ 5  6  7  8]]\n",
      "\n",
      " [[ 9 10 11 12]\n",
      "  [13 14 15 16]]]\n"
     ]
    },
    {
     "data": {
      "text/plain": [
       "array([[[ 1,  2,  3,  4],\n",
       "        [ 5,  6,  7,  8]],\n",
       "\n",
       "       [[ 9, 10, 11, 12],\n",
       "        [13, 14, 15, 16]]])"
      ]
     },
     "execution_count": 56,
     "metadata": {},
     "output_type": "execute_result"
    }
   ],
   "source": [
    "c = np.array([[1, 2, 3, 4], [5, 6, 7, 8]]) #array de dimensión 2\n",
    "print(\"c:\", c, sep = \"\\n\")\n",
    "c\n",
    "d = np.array([[[1, 2, 3, 4], [5, 6, 7, 8]], [[9, 10, 11, 12], [13, 14, 15, 16]]]) #array de dimensión 3\n",
    "print(\"d:\", d, sep = \"\\n\")\n",
    "d"
   ]
  },
  {
   "cell_type": "code",
   "execution_count": 58,
   "id": "1e2358b5-05d2-4d69-8eab-dce45ea55390",
   "metadata": {
    "tags": []
   },
   "outputs": [
    {
     "name": "stdout",
     "output_type": "stream",
     "text": [
      "0\n",
      "1\n",
      "2\n",
      "3\n"
     ]
    }
   ],
   "source": [
    "#Los escalares son arreglos/tensores de dimensión 0, los vectores son arreglos/tensores de dimensión 1, las matrices son arreglos/tensores de dimensión 2, etc.\n",
    "\n",
    "#El atributo ndim almacena la dimension del arreglo/tensor (no confundir con el tamaño de un vector o una matriz).\n",
    "\n",
    "\n",
    "print(a.ndim)\n",
    "print(b.ndim)\n",
    "print(c.ndim)\n",
    "print(d.ndim)"
   ]
  },
  {
   "cell_type": "code",
   "execution_count": 59,
   "id": "0330c6eb-3171-456f-aad4-2bf00aed11ed",
   "metadata": {
    "tags": []
   },
   "outputs": [
    {
     "name": "stdout",
     "output_type": "stream",
     "text": [
      "a = 13\n",
      "b[2] =  3\n",
      "c[1] = [5 6 7 8]\n",
      "d[1] = [[ 9 10 11 12]\n",
      " [13 14 15 16]]\n"
     ]
    }
   ],
   "source": [
    "print(\"a =\", a)\n",
    "print(\"b[2] = \", b[2])\n",
    "print(\"c[1] =\", c[1])\n",
    "print(\"d[1] =\", d[1])"
   ]
  },
  {
   "cell_type": "code",
   "execution_count": 60,
   "id": "19df2cc9-abf2-4448-a204-f0708ca5f25c",
   "metadata": {
    "tags": []
   },
   "outputs": [
    {
     "name": "stdout",
     "output_type": "stream",
     "text": [
      "a = 13\n",
      "b[2] = 3\n",
      "c[1,2] = 7\n",
      "d[1,0,2] = 11\n"
     ]
    }
   ],
   "source": [
    " print(\"a =\", a)\n",
    "print(\"b[2] =\", b[2])\n",
    "print(\"c[1,2] =\", c[1,2])\n",
    "print(\"d[1,0,2] =\", d[1,0,2])"
   ]
  },
  {
   "cell_type": "code",
   "execution_count": 61,
   "id": "bee3bc84-5d1a-4a2f-8ca6-2ea133ff0913",
   "metadata": {
    "tags": []
   },
   "outputs": [
    {
     "name": "stdout",
     "output_type": "stream",
     "text": [
      "[2 3 4]\n",
      "[6 7]\n",
      "[[[13 14]]]\n"
     ]
    }
   ],
   "source": [
    "#Similarmente podemos segmentar arrays como en las listas de python,\n",
    "print(b[1:4]) #b = [1 2 3 4] \n",
    "print(c[1,1:3]) #c = [[1 2 3 4][5 6 7 8]] \n",
    "print(d[1:3,1:3,0:2])"
   ]
  },
  {
   "cell_type": "code",
   "execution_count": 62,
   "id": "47dd6a11-48f3-4349-9497-47742dc31316",
   "metadata": {
    "tags": []
   },
   "outputs": [
    {
     "name": "stdout",
     "output_type": "stream",
     "text": [
      "<U7\n"
     ]
    }
   ],
   "source": [
    "frutas = np.array(['Manzana', 'Naranja', 'Uva']) #cadenas\n",
    "print(frutas.dtype)"
   ]
  },
  {
   "cell_type": "code",
   "execution_count": 65,
   "id": "43126996-03bf-407f-97d4-fcc5fd79a439",
   "metadata": {
    "tags": []
   },
   "outputs": [
    {
     "name": "stdout",
     "output_type": "stream",
     "text": [
      "<U3\n",
      "['6' '1' '2' '4' '623' '8']\n"
     ]
    }
   ],
   "source": [
    "'''\n",
    "Podemos manipular el tipo de los datos del array dentro de la función de creación del array np.array,\n",
    "siempre y cuando el cambio sea posible. Por ejemplo podemos pasar enteros a cadenas (integers a strings).\n",
    "'''\n",
    "\n",
    "number_to_string = np.array([6, 1, 2, 4, 623, 8], dtype=str) #b denota un string\n",
    "print(number_to_string.dtype)\n",
    "print(number_to_string)"
   ]
  },
  {
   "cell_type": "code",
   "execution_count": 69,
   "id": "92003a7e-1445-4984-b92c-8add24490eab",
   "metadata": {
    "tags": []
   },
   "outputs": [
    {
     "name": "stdout",
     "output_type": "stream",
     "text": [
      "hay un error en su lógica\n"
     ]
    }
   ],
   "source": [
    "try:\n",
    "    error_array = np.array([ 'a','2', '3'], dtype=int)\n",
    "    print(error_array)\n",
    "except:\n",
    "    print(\"hay un error en su lógica\")"
   ]
  },
  {
   "cell_type": "code",
   "execution_count": 70,
   "id": "3d4f6f78-347f-44b5-afb7-e5b05c9fe66d",
   "metadata": {
    "tags": []
   },
   "outputs": [
    {
     "name": "stdout",
     "output_type": "stream",
     "text": [
      "[1 2 3]\n"
     ]
    }
   ],
   "source": [
    "floating_array = np.array([1.1, 2.1, 3.1]) #punto flotante\n",
    "int_array = floating_array.astype(int)\n",
    "print(int_array)"
   ]
  },
  {
   "cell_type": "code",
   "execution_count": 72,
   "id": "7803aa61-10b2-4879-abdf-ece665ce261b",
   "metadata": {
    "tags": []
   },
   "outputs": [
    {
     "name": "stdout",
     "output_type": "stream",
     "text": [
      "`vector`:\t [ 127 -127   -1    1]\n",
      "`vector.dtype`:  int8\n",
      "`vector`:\t [   127   -127  32767 -32767]\n",
      "`vector.dtype`:  int16\n"
     ]
    },
    {
     "name": "stderr",
     "output_type": "stream",
     "text": [
      "/tmp/ipykernel_4499/3857418225.py:1: DeprecationWarning: NumPy will stop allowing conversion of out-of-bound Python integers to integer arrays.  The conversion of 32767 to int8 will fail in the future.\n",
      "For the old behavior, usually:\n",
      "    np.array(value).astype(dtype)\n",
      "will give the desired result (the cast overflows).\n",
      "  vector = np.array([127, -127, 32767, -32767], dtype=np.int8) # entero de 1 byte = 8 bits (1 bit se necesita para almacenar el signo)\n",
      "/tmp/ipykernel_4499/3857418225.py:1: DeprecationWarning: NumPy will stop allowing conversion of out-of-bound Python integers to integer arrays.  The conversion of -32767 to int8 will fail in the future.\n",
      "For the old behavior, usually:\n",
      "    np.array(value).astype(dtype)\n",
      "will give the desired result (the cast overflows).\n",
      "  vector = np.array([127, -127, 32767, -32767], dtype=np.int8) # entero de 1 byte = 8 bits (1 bit se necesita para almacenar el signo)\n"
     ]
    }
   ],
   "source": [
    "vector = np.array([127, -127, 32767, -32767], dtype=np.int8) # entero de 1 byte = 8 bits (1 bit se necesita para almacenar el signo)\n",
    "print('`vector`:\\t', vector)\n",
    "print('`vector.dtype`: ', vector.dtype)\n",
    "vector = np.array([127, -127, 32767, -32767], dtype=np.int16) # entero de 2 bytes = 16 bits (1 bit se necesita para almacenar el signo)\n",
    "print('`vector`:\\t', vector)\n",
    "print('`vector.dtype`: ', vector.dtype)"
   ]
  },
  {
   "cell_type": "code",
   "execution_count": null,
   "id": "8ee822a6-11ef-4010-90ce-8c0ff07666be",
   "metadata": {},
   "outputs": [],
   "source": []
  }
 ],
 "metadata": {
  "kernelspec": {
   "display_name": "Python 3 (ipykernel)",
   "language": "python",
   "name": "python3"
  },
  "language_info": {
   "codemirror_mode": {
    "name": "ipython",
    "version": 3
   },
   "file_extension": ".py",
   "mimetype": "text/x-python",
   "name": "python",
   "nbconvert_exporter": "python",
   "pygments_lexer": "ipython3",
   "version": "3.11.3"
  }
 },
 "nbformat": 4,
 "nbformat_minor": 5
}
