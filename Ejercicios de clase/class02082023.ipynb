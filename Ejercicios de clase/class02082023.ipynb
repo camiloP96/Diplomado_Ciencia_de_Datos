{
 "cells": [
  {
   "cell_type": "code",
   "execution_count": 2,
   "id": "34096549-1be8-478a-a020-e218aa9e4764",
   "metadata": {
    "tags": []
   },
   "outputs": [],
   "source": [
    "import numpy as np\n"
   ]
  },
  {
   "cell_type": "code",
   "execution_count": 3,
   "id": "eb0b585b-ed06-4580-a18e-6eeededa48c7",
   "metadata": {
    "tags": []
   },
   "outputs": [
    {
     "name": "stdout",
     "output_type": "stream",
     "text": [
      "type(a): <class 'numpy.ndarray'> \n",
      "\n",
      "a:\n",
      "13\n",
      "b:\n",
      "[1 2 3 4]\n",
      "c:\n",
      "[[1 2 3 4]\n",
      " [5 6 7 8]]\n",
      "d:\n",
      "[[[ 1  2  3  4]\n",
      "  [ 5  6  7  8]]\n",
      "\n",
      " [[ 9 10 11 12]\n",
      "  [13 14 15 16]]]\n"
     ]
    },
    {
     "data": {
      "text/plain": [
       "array([[[ 1,  2,  3,  4],\n",
       "        [ 5,  6,  7,  8]],\n",
       "\n",
       "       [[ 9, 10, 11, 12],\n",
       "        [13, 14, 15, 16]]])"
      ]
     },
     "execution_count": 3,
     "metadata": {},
     "output_type": "execute_result"
    }
   ],
   "source": [
    "a = np.array(13) #array de dimensión 0\n",
    "print(\"type(a):\", type(a), \"\\n\")\n",
    "print(\"a:\", a, sep = \"\\n\")\n",
    "a\n",
    "b = np.array([1, 2, 3, 4]) #array de dimensión 1\n",
    "print(\"b:\", b, sep = \"\\n\")\n",
    "b\n",
    "c = np.array([[1, 2, 3, 4], [5, 6, 7, 8]]) #array de dimensión 2\n",
    "print(\"c:\", c, sep = \"\\n\")\n",
    "c\n",
    "d = np.array([[[1, 2, 3, 4], [5, 6, 7, 8]], [[9, 10, 11, 12], [13, 14, 15, 16]]]) #array de dimensión 3\n",
    "print(\"d:\", d, sep = \"\\n\")\n",
    "d"
   ]
  },
  {
   "cell_type": "code",
   "execution_count": 5,
   "id": "b32bf71e-2b31-4deb-a283-b4e8a3504708",
   "metadata": {
    "tags": []
   },
   "outputs": [
    {
     "name": "stdout",
     "output_type": "stream",
     "text": [
      "()\n",
      "(4,)\n",
      "(2, 4)\n",
      "(2, 2, 4)\n"
     ]
    }
   ],
   "source": [
    "# el tamaño de los arreglos es diferente a su dimension. \n",
    "#podemos cambiar la forma, osea aumentar dimensiones o numero de elementos por dimensión\n",
    "\n",
    "print(a.shape) # a = 13 \n",
    "print(b.shape) # b = [1 2 3 4] \n",
    "print(c.shape) # c = [[1 2 3 4][5 6 7 8]] \n",
    "print(d.shape) # d = [[[ 1  2  3  4][ 5  6  7  8]] [[ 9 10 11 12][13 14 15 16]]] "
   ]
  },
  {
   "cell_type": "code",
   "execution_count": 6,
   "id": "14bd364e-12f5-43ba-9ec3-bf70eec62805",
   "metadata": {
    "tags": []
   },
   "outputs": [
    {
     "name": "stdout",
     "output_type": "stream",
     "text": [
      "c = [[1 2 3 4]\n",
      " [5 6 7 8]] \n",
      "\n",
      "c_1D = [[1 2 3 4 5 6 7 8]] \n",
      "\n"
     ]
    }
   ],
   "source": [
    "print(\"c =\", c, \"\\n\") # c = [[1 2 3 4][5 6 7 8]]\n",
    "c_1D = c.reshape(1, 8)\n",
    "print(\"c_1D =\", c_1D, \"\\n\")"
   ]
  },
  {
   "cell_type": "code",
   "execution_count": 7,
   "id": "d1af408e-746e-48be-b7ec-0c280c937dec",
   "metadata": {
    "tags": []
   },
   "outputs": [
    {
     "name": "stdout",
     "output_type": "stream",
     "text": [
      "[[[ 1  2  3  4]\n",
      "  [ 5  6  7  8]]\n",
      "\n",
      " [[ 9 10 11 12]\n",
      "  [13 14 15 16]]]\n"
     ]
    }
   ],
   "source": [
    "print(d)"
   ]
  },
  {
   "cell_type": "code",
   "execution_count": 8,
   "id": "792dee4d-5c13-447a-9d04-f0ec7a331d78",
   "metadata": {
    "tags": []
   },
   "outputs": [
    {
     "name": "stdout",
     "output_type": "stream",
     "text": [
      "Hay un error al intentar cambiar la forma del arreglo\n"
     ]
    }
   ],
   "source": [
    "try:\n",
    "    d.reshape(3,5)\n",
    "except:\n",
    "    print('Hay un error al intentar cambiar la forma del arreglo')\n"
   ]
  },
  {
   "cell_type": "code",
   "execution_count": 9,
   "id": "b09d721a-be53-4839-be2d-9d88c42d4d0b",
   "metadata": {
    "tags": []
   },
   "outputs": [
    {
     "data": {
      "text/plain": [
       "array([[[[ 1,  2],\n",
       "         [ 3,  4]],\n",
       "\n",
       "        [[ 5,  6],\n",
       "         [ 7,  8]]],\n",
       "\n",
       "\n",
       "       [[[ 9, 10],\n",
       "         [11, 12]],\n",
       "\n",
       "        [[13, 14],\n",
       "         [15, 16]]]])"
      ]
     },
     "execution_count": 9,
     "metadata": {},
     "output_type": "execute_result"
    }
   ],
   "source": [
    "d.reshape(2,2,2,2)"
   ]
  },
  {
   "cell_type": "markdown",
   "id": "7d266fa8-dacd-43d2-bec9-13b46ee58591",
   "metadata": {},
   "source": [
    "Para no especificar explícitamente el número de elementos de una (solamente una) de las dimensiones se le puede dar el valor -1 (solamente una vez) al método reshape()."
   ]
  },
  {
   "cell_type": "code",
   "execution_count": 10,
   "id": "cb458404-9746-4eb6-905a-accaf84592ac",
   "metadata": {
    "tags": []
   },
   "outputs": [
    {
     "data": {
      "text/plain": [
       "array([[1, 2, 3],\n",
       "       [4, 5, 6],\n",
       "       [7, 8, 9]])"
      ]
     },
     "execution_count": 10,
     "metadata": {},
     "output_type": "execute_result"
    }
   ],
   "source": [
    "arr = np.array([1,2,3,4,5,6,7,8,9])\n",
    "arr.reshape(3,-1)"
   ]
  },
  {
   "cell_type": "code",
   "execution_count": 12,
   "id": "64dc89da-abf8-4fb6-af31-89b868c9e29f",
   "metadata": {
    "tags": []
   },
   "outputs": [
    {
     "name": "stdout",
     "output_type": "stream",
     "text": [
      "`type(indx)`:\t<class 'tuple'>\n",
      "`indx`:\t(array([2, 5, 8]),)\n"
     ]
    }
   ],
   "source": [
    "# operaciones con vectores:\n",
    "vector = np.array([1,2,3,4,5,6,7,8,9])\n",
    "indx = np.where(vector%3 == 0)\n",
    "print(f'`type(indx)`:\\t{type(indx)}')\n",
    "print(f'`indx`:\\t{indx}')"
   ]
  },
  {
   "cell_type": "code",
   "execution_count": 13,
   "id": "2c1b31c5-2528-447e-9be6-1f38c30f464e",
   "metadata": {
    "tags": []
   },
   "outputs": [],
   "source": [
    "import pandas as pd"
   ]
  },
  {
   "cell_type": "code",
   "execution_count": 15,
   "id": "25675a28-9efb-44df-ba0a-0f08a2098378",
   "metadata": {
    "tags": []
   },
   "outputs": [],
   "source": [
    "counties = pd.read_excel(\"https://github.com/AprendizajeProfundo/Libro_Fundamentos_Programacion/blob/main/Python/Datos/counties.xlsx?raw=true\")"
   ]
  },
  {
   "cell_type": "code",
   "execution_count": 16,
   "id": "cdcd3a3c-ae66-496d-94c9-3b1f970f98d9",
   "metadata": {
    "tags": []
   },
   "outputs": [],
   "source": [
    "a = np.array([1,2,3])"
   ]
  },
  {
   "cell_type": "code",
   "execution_count": 18,
   "id": "7067e25d-ea14-4437-b55c-621021a26988",
   "metadata": {
    "tags": []
   },
   "outputs": [],
   "source": [
    "b = np.array([[1,2,3],[4,5,6]])"
   ]
  },
  {
   "cell_type": "code",
   "execution_count": null,
   "id": "b57f0d86-4df3-4a11-9428-ee5396441e00",
   "metadata": {},
   "outputs": [],
   "source": []
  }
 ],
 "metadata": {
  "kernelspec": {
   "display_name": "Python 3 (ipykernel)",
   "language": "python",
   "name": "python3"
  },
  "language_info": {
   "codemirror_mode": {
    "name": "ipython",
    "version": 3
   },
   "file_extension": ".py",
   "mimetype": "text/x-python",
   "name": "python",
   "nbconvert_exporter": "python",
   "pygments_lexer": "ipython3",
   "version": "3.11.3"
  }
 },
 "nbformat": 4,
 "nbformat_minor": 5
}
