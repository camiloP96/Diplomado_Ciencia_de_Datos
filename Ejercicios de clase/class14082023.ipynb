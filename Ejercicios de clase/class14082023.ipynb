{
 "cells": [
  {
   "cell_type": "code",
   "execution_count": 2,
   "id": "b00530cc-658a-4e51-a327-aef4f64946e8",
   "metadata": {
    "tags": []
   },
   "outputs": [],
   "source": [
    "#Comentarios usando el númeral. \n",
    "#contributors()"
   ]
  },
  {
   "cell_type": "code",
   "execution_count": null,
   "id": "214a81e3-781d-458a-9c18-f8291152b276",
   "metadata": {},
   "outputs": [],
   "source": []
  }
 ],
 "metadata": {
  "kernelspec": {
   "display_name": "R",
   "language": "R",
   "name": "ir"
  },
  "language_info": {
   "codemirror_mode": "r",
   "file_extension": ".r",
   "mimetype": "text/x-r-source",
   "name": "R",
   "pygments_lexer": "r",
   "version": "4.0.4"
  }
 },
 "nbformat": 4,
 "nbformat_minor": 5
}
