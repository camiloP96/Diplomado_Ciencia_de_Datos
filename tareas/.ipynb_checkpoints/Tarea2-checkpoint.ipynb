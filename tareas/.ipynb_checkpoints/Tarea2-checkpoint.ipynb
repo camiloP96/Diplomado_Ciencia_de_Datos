{
 "cells": [
  {
   "cell_type": "markdown",
   "id": "6cc9ebfe-b936-4829-8eca-2e5dbdd9816e",
   "metadata": {},
   "source": [
    "<h1 style=\"color:#0000ff;text-align:center\"> <b>CUARTILES</b></h1>"
   ]
  },
  {
   "cell_type": "markdown",
   "id": "3c96b5c7-27d8-4eec-bc80-b3b29921aadf",
   "metadata": {},
   "source": [
    "![Gráfica](https://upload.wikimedia.org/wikipedia/commons/5/5e/Iqr_with_quantile.png)"
   ]
  },
  {
   "cell_type": "markdown",
   "id": "f44d8c8c-ce14-4750-922d-926c94260143",
   "metadata": {
    "tags": []
   },
   "source": [
    "![Fotomia](Documentos/Diplomado_Ciencia_de_Datos/tareas/WIN_20230731_22_07_37_Pro.jpg)\n",
    "\n",
    "## Cristian Camilo Parada Cárdenas \n",
    "\n",
    "Psicólogo, egresado de la Universidad Nacional. Actualmente ejerciendo en el área organizacional dentro del sector público, especificamente en los temas de aprendizaje organizacional y gestión del conocimiento.\n",
    "Mis interes/cosas que quisiera aprender son variados, entre ellos estan:\n",
    "- Usar los métodos de análisis estadistico para el análisis de documentos académicos (Altmetrics). \n",
    "- Usar métodos estadisticos para análisis de las redes sociales. (seguimiento de tendencias, análisis de las emociones en los textos, comportamiento de las personas en entornos digitales).\n",
    "- Desarrollo web, entornos de aprendizaje LMS (creación e impacto de paquetes SCORM). \n",
    "- Filosofía de la mente y cibernetica. \n",
    "- Dibujo, arte y música\n",
    "- Saber un poco de todo y mucho de nada \n",
    "\n"
   ]
  },
  {
   "cell_type": "code",
   "execution_count": null,
   "id": "2c713991-f13c-42ca-b96e-1d1ddc0bf6d0",
   "metadata": {},
   "outputs": [],
   "source": []
  }
 ],
 "metadata": {
  "kernelspec": {
   "display_name": "Python 3 (ipykernel)",
   "language": "python",
   "name": "python3"
  },
  "language_info": {
   "codemirror_mode": {
    "name": "ipython",
    "version": 3
   },
   "file_extension": ".py",
   "mimetype": "text/x-python",
   "name": "python",
   "nbconvert_exporter": "python",
   "pygments_lexer": "ipython3",
   "version": "3.11.3"
  }
 },
 "nbformat": 4,
 "nbformat_minor": 5
}
