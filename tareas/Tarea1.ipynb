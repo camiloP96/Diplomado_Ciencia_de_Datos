{
 "cells": [
  {
   "cell_type": "markdown",
   "id": "015dfcaa-f836-4290-a2c7-8451da91ffbb",
   "metadata": {},
   "source": [
    "## DIFERENTES ROLES RELACIONADOS CON CIENCIA DE DATOS. "
   ]
  },
  {
   "cell_type": "markdown",
   "id": "66606bec-a0ea-4f10-b023-649dff04bb8e",
   "metadata": {},
   "source": [
    "La pagina analyticsvidhya describe las diferencias entre tres roles asociados con ciencia de datos: \n",
    "Data scientist, Data Engineer y Statistician. \n"
   ]
  },
  {
   "cell_type": "markdown",
   "id": "bdbb052e-eedb-4504-8ca1-198233c28c9c",
   "metadata": {},
   "source": [
    "Las diferencias en principio no parecen tan claras pues todas estan relacionadas con los datos. Especificamente su recolección,almacenamiento y análisis. \n",
    "Sin embargo las diferencias principales parecen ser que el **estadistico** tiene una aproximacion más académica. Entiende teoricamente la estadistica y trabaja para aplicarla a problemas de la vida real. Diseña experimentos, recolecta datos y en general realiza trabajo investigativo (aplicado o no al mundo real). Sus tecnologías asociadas son R, excel, Wolfram Alpha entre otras (eforzando la idea de trabajo investigativo).\n",
    "\n",
    "Por otro lado el **Ingeniero de Datos** trabaja en el almacenamiento y disponibilidad de los datos. La descripción que se ofrece en la infografía es \"Asegurarse del flujo ininterrumpido de datos entre los servidores y las aplicaciones. Son responsables de la arquitectura de datos.\". Según esto trabajan más en la parte de mantener la información disponible y administrarla en servidores dispuestos para ello. Seña de esto son las tecnologias que se les asocian, la mayoría gestores de bases de datos, mongoDB, SQLServer etc. \n",
    "\n",
    "Finalmente los **Cientificos de datos** extraen información de los datos. Me parece que su rol se vale mucho de las metodologias investigativas aplicadas a problemas de la vida real. Tienen un rol investigativo pero enfocado en la industria, y en la extracción de información valiosa de los datos disponibles. \n",
    "Las tecnologias asociadas refuerzan esto, usan por ejemplo R al igual que los estadisticos, pero también usan software de visualización de datos como Tableau etc. \n",
    "\n",
    "Finalmente y más a modo de preguntas que de conclusión creo que todos los roles presentados se hacen necesarios en las grandes industrias y ambientes de producción en donde las tareas son divididas y especializadas para promover la eficiencia. Me pregunto si en escenarios no tan grandes los roles planteados anteriormente se vuelven más difusos y también si realmente pueden ser todos cubiertos por una sola persona o pequeño grupo dado la especialidad de las tareas de cada uno. \n",
    "\n",
    "También me pregunto si la media de salarios presentada en la gráfica, en la que los cientificos de datos aparecen con sueldos superiores tiene que ver con la destreza, la utilidad o la cercanía a los negocios y decisiones administrativas de las compañias. \n",
    "\n",
    "\n"
   ]
  }
 ],
 "metadata": {
  "kernelspec": {
   "display_name": "Python 3 (ipykernel)",
   "language": "python",
   "name": "python3"
  },
  "language_info": {
   "codemirror_mode": {
    "name": "ipython",
    "version": 3
   },
   "file_extension": ".py",
   "mimetype": "text/x-python",
   "name": "python",
   "nbconvert_exporter": "python",
   "pygments_lexer": "ipython3",
   "version": "3.11.3"
  }
 },
 "nbformat": 4,
 "nbformat_minor": 5
}
